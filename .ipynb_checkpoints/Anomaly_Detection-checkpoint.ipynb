{
 "cells": [
  {
   "cell_type": "code",
   "execution_count": 1,
   "metadata": {},
   "outputs": [
    {
     "name": "stderr",
     "output_type": "stream",
     "text": [
      "UsageError: unrecognized arguments: # you will want this if plotting with pyplot\n"
     ]
    }
   ],
   "source": [
    "import os, math\n",
    "import numpy as np\n",
    "from statistics import median\n",
    "import matplotlib.pyplot as plt\n",
    "import warnings\n",
    "warnings.filterwarnings(\"ignore\")\n",
    "%matplotlib inline # you will want this if plotting with pyplot"
   ]
  },
  {
   "cell_type": "code",
   "execution_count": 2,
   "metadata": {
    "collapsed": true
   },
   "outputs": [],
   "source": [
    "def Moving_Range_Mean(lis):\n",
    "    l = lis.shape[0]\n",
    "    arr = lis - np.roll(lis, -1)\n",
    "    return np.nansum(np.absolute(arr[1:-1]))/(l-1)\n",
    "\n",
    "def give_stats(lis):\n",
    "    mean_ = Moving_Range_Mean(lis)\n",
    "    median_ = np.nanmedian(lis)\n",
    "    upper_t = median_ + 3*mean_\n",
    "    lower_t = median_ - 3*mean_\n",
    "    return mean_, median_, lower_t, upper_t\n",
    "\n",
    "def plot(lis, title):\n",
    "    mean_, median_, lower_t, upper_t = give_stats(lis)\n",
    "    plt.axhline(y=upper_t,linestyle='--',linewidth=4,color='red')\n",
    "    plt.axhline(y=lower_t,linestyle='--',linewidth=4,color='red')\n",
    "    plt.scatter(np.array([i for i in range(0,lis.shape[0])]), lis)\n",
    "    plt.title(title)\n",
    "    plt.xlabel(\"Time -------------------> \")\n",
    "    plt.ylabel(\"Similarity Score --------->\")\n",
    "    plt.show()\n",
    "    return None"
   ]
  },
  {
   "cell_type": "code",
   "execution_count": null,
   "metadata": {
    "collapsed": true
   },
   "outputs": [],
   "source": [
    "dataset = \"enron_by_day\"\n",
    "list_files = os.listdir(os.getcwd()+\"/results/\"+dataset+\"/\")\n",
    "root = \"results/\"\n",
    "for file in list_files:\n",
    "    if list_file.split(\"_\")[0] == \"time_series\":\n",
    "        arr = np.loadtxt(root+dataset+'/'+file)\n",
    "        plot(arr, dataset+\"/\"+file)"
   ]
  }
 ],
 "metadata": {
  "kernelspec": {
   "display_name": "Python 3",
   "language": "python",
   "name": "python3"
  },
  "language_info": {
   "codemirror_mode": {
    "name": "ipython",
    "version": 3
   },
   "file_extension": ".py",
   "mimetype": "text/x-python",
   "name": "python",
   "nbconvert_exporter": "python",
   "pygments_lexer": "ipython3",
   "version": "3.5.2"
  }
 },
 "nbformat": 4,
 "nbformat_minor": 2
}
